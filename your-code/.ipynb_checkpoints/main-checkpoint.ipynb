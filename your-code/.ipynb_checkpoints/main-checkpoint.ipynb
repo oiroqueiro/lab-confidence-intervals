{
 "cells": [
  {
   "cell_type": "markdown",
   "metadata": {},
   "source": [
    "# Confidence Intervals"
   ]
  },
  {
   "cell_type": "code",
   "execution_count": 52,
   "metadata": {},
   "outputs": [],
   "source": [
    "# Libraries\n",
    "\n",
    "import numpy as np\n",
    "import scipy.stats as st"
   ]
  },
  {
   "cell_type": "markdown",
   "metadata": {},
   "source": [
    "## Challenge 1\n",
    "We want to estimate the average size of the men of a country with a confidence level of 80%. Assuming that the standard deviation of the sizes in the population is 4, get the confidence interval with a sample of men selected randomly, whose heights are:\n",
    "\n",
    "````\n",
    "heights = [167, 167, 168, 168, 168, 169, 171, 172, 173, 175, 175, 175, 177, 182, 195]\n",
    "````\n",
    "\n",
    "**Hint**: function `stats.norm.interval` from `scipy` can help you get through this exercise. "
   ]
  },
  {
   "cell_type": "code",
   "execution_count": 53,
   "metadata": {},
   "outputs": [
    {
     "name": "stdout",
     "output_type": "stream",
     "text": [
      "The confidence interval with a confidence level of 80% is: (172.14308590115726, 174.79024743217607)\n"
     ]
    }
   ],
   "source": [
    "# your code here\n",
    "\n",
    "heights = [167, 167, 168, 168, 168, 169, 171, 172, 173, 175, 175, 175, 177, 182, 195]\n",
    "\n",
    "mean = sum(heights)/len(heights)\n",
    "\n",
    "n = len(heights)\n",
    "\n",
    "ci = st.norm.interval(0.80, loc=mean, scale=4/np.sqrt(n))\n",
    "\n",
    "print(f'The confidence interval with a confidence level of 80% is: {ci}')"
   ]
  },
  {
   "cell_type": "markdown",
   "metadata": {},
   "source": [
    "## Challenge 2 \n",
    "In a sample of 105 shops selected randomly from an area, we note that 27 of them have had losses in this month. Get an interval for the proportion of businesses in the area with losses to a confidence level of 80% and a confidence level of 90%.\n",
    "\n",
    "**Hint**: function `stats.norm.interval` from `scipy` can help you get through this exercise. "
   ]
  },
  {
   "cell_type": "code",
   "execution_count": 54,
   "metadata": {},
   "outputs": [
    {
     "name": "stdout",
     "output_type": "stream",
     "text": [
      "The confidence interval with a confidence level of 80% is: (0.20248138545542083, 0.3118043288302934)\n",
      "The confidence interval with a confidence level of 90% is: (0.1869856177645281, 0.3273000965211861)\n"
     ]
    }
   ],
   "source": [
    "# your code here\n",
    "\n",
    "proportion = 27/105\n",
    "\n",
    "n = 105\n",
    "\n",
    "std = np.sqrt(proportion*(1-proportion)/n)\n",
    "\n",
    "ci_80 = st.norm.interval(0.80, loc=proportion, scale=std)\n",
    "\n",
    "ci_90 = st.norm.interval(0.90, loc=proportion, scale=std)\n",
    "\n",
    "print(f'The confidence interval with a confidence level of 80% is: {ci_80}')\n",
    "\n",
    "print(f'The confidence interval with a confidence level of 90% is: {ci_90}')"
   ]
  },
  {
   "cell_type": "markdown",
   "metadata": {},
   "source": [
    "## Bonus Challenge\n",
    "The error level or sampling error for the first challenge is given by the following expression:\n",
    "$$Error = z_{\\frac{\\alpha}{2}}\\frac{\\sigma}{\\sqrt n}$$\n",
    "Where z represents the value for N(0,1)\n",
    "\n",
    "\n",
    "Suppose that with the previous data of challenge 1, and with a confidence level of\n",
    "99% (that is, almost certainly) we want to estimate the average population size, so that the error level committed is not greater than half a centimeter.\n",
    "\n",
    "#### 1.- Determine what size the selected sample of men should be."
   ]
  },
  {
   "cell_type": "code",
   "execution_count": 55,
   "metadata": {},
   "outputs": [
    {
     "data": {
      "text/plain": [
       "425"
      ]
     },
     "metadata": {},
     "output_type": "display_data"
    }
   ],
   "source": [
    "# your code here\n",
    "\n",
    "z = st.norm.ppf(1-((1-0.99)/2))\n",
    "\n",
    "#0.5 = z * 4/sqrt(n) -> n=(z*4/0.5)**2\n",
    "\n",
    "n=round((z*4/0.5)**2)\n",
    "\n",
    "display(n)"
   ]
  },
  {
   "cell_type": "markdown",
   "metadata": {},
   "source": [
    "#### 2.- For the second challenge, we have the following error:\n",
    "$$ Error = z_{\\frac{\\alpha}{2}}\\sqrt{\\frac{p\\times q}{n}} $$\n",
    "#### Determine the sample size required to not exceed an error of 1% with a confidence of 80%."
   ]
  },
  {
   "cell_type": "code",
   "execution_count": 56,
   "metadata": {},
   "outputs": [
    {
     "data": {
      "text/plain": [
       "85979"
      ]
     },
     "metadata": {},
     "output_type": "display_data"
    }
   ],
   "source": [
    "# your code here\n",
    "\n",
    "z = st.norm.ppf(1-((1-0.80)/2))\n",
    "\n",
    "p = (105 - 27)/105 #success\n",
    "\n",
    "q = 27/105 #failures\n",
    "\n",
    "#0.01 = z * sqrt((p*q)/n) ->  n = (z/0.01)**2 / (p*q) \n",
    "\n",
    "n = round((z/0.01)**2 / (p*q))\n",
    "\n",
    "display(n)\n"
   ]
  },
  {
   "cell_type": "markdown",
   "metadata": {},
   "source": [
    "## Bonus Challenge\n",
    "\n",
    "Let's consider the following problem:\n",
    "\n",
    "Build a confidence interval of 94% for the real difference between the durations of two brands of spotlights, if a sample of 40 spotlights taken randomly from the first mark gave an average duration of 418 hours, and a sample of 50 bulbs of another brand gave a duration average of 402 hours. The standard deviations of the two\n",
    "populations are 26 hours and 22 hours, respectively.\n",
    "\n",
    "Sometimes, we will be interested in the difference of two different groups of random variables. We can also build a confidence interval for that! We have some different cases regarding the variance but for this specific case (the variance are different and known), we have that:\n",
    "\n",
    "$$\\overline{X} - \\overline{Y}  \\sim N(\\mu_{X} - \\mu_{Y} , \\sqrt{\\frac{\\sigma_{X}^2}{n_X}+\\frac{\\sigma_{Y}^2}{n_Y}})$$\n",
    "\n",
    "Solve the problem with this information."
   ]
  },
  {
   "cell_type": "code",
   "execution_count": 57,
   "metadata": {},
   "outputs": [
    {
     "name": "stdout",
     "output_type": "stream",
     "text": [
      "The confidence interval for the difference with a confidence level of 94% is: (6.303419026585921, 25.69658097341408)\n"
     ]
    }
   ],
   "source": [
    "# your code here\n",
    "\n",
    "z = st.norm.ppf(1-((1-0.94)/2))\n",
    "\n",
    "n1 = 40\n",
    "x1 = 418\n",
    "s1 = 26\n",
    "\n",
    "n2 = 50\n",
    "x2 = 402\n",
    "s2 = 22\n",
    "\n",
    "x = x1 - x2\n",
    "x\n",
    "\n",
    "margin = z*np.sqrt(s1**2/n1 + s2**2/n2)\n",
    "\n",
    "ci_lower = x - margin\n",
    "ci_upper = x + margin\n",
    "\n",
    "print(f\"The confidence interval for the difference with a confidence level of 94% is: ({ci_lower}, {ci_upper})\")"
   ]
  },
  {
   "cell_type": "code",
   "execution_count": null,
   "metadata": {},
   "outputs": [],
   "source": []
  }
 ],
 "metadata": {
  "kernelspec": {
   "display_name": "Python 3 (ipykernel)",
   "language": "python",
   "name": "python3"
  },
  "language_info": {
   "codemirror_mode": {
    "name": "ipython",
    "version": 3
   },
   "file_extension": ".py",
   "mimetype": "text/x-python",
   "name": "python",
   "nbconvert_exporter": "python",
   "pygments_lexer": "ipython3",
   "version": "3.9.12"
  }
 },
 "nbformat": 4,
 "nbformat_minor": 2
}
